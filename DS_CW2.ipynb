{
  "nbformat": 4,
  "nbformat_minor": 0,
  "metadata": {
    "colab": {
      "provenance": [],
      "authorship_tag": "ABX9TyM1YBbUaopYyx3XjHcO0U1s",
      "include_colab_link": true
    },
    "kernelspec": {
      "name": "python3",
      "display_name": "Python 3"
    },
    "language_info": {
      "name": "python"
    }
  },
  "cells": [
    {
      "cell_type": "markdown",
      "metadata": {
        "id": "view-in-github",
        "colab_type": "text"
      },
      "source": [
        "<a href=\"https://colab.research.google.com/github/SyedZaidi69/Group-Project-Software-Engineering-/blob/Develop/DS_CW2.ipynb\" target=\"_parent\"><img src=\"https://colab.research.google.com/assets/colab-badge.svg\" alt=\"Open In Colab\"/></a>"
      ]
    },
    {
      "cell_type": "code",
      "execution_count": 31,
      "metadata": {
        "colab": {
          "base_uri": "https://localhost:8080/"
        },
        "id": "6ql6InTkLjiI",
        "outputId": "c9d53d4d-d63b-4ff6-bafe-7d1c2c74816e"
      },
      "outputs": [
        {
          "output_type": "stream",
          "name": "stdout",
          "text": [
            "The area with the highest predicted life satisfaction rate is: south east\n",
            "The predicted life satisfaction rate for south east is: 7.8\n"
          ]
        }
      ],
      "source": [
        "#predicting the area most likely to have the highest life satisfaction rate\n",
        "\n",
        "import pandas as pd\n",
        "from sklearn.linear_model import LinearRegression\n",
        "from sklearn.model_selection import train_test_split\n",
        "from sklearn.preprocessing import OneHotEncoder\n",
        "\n",
        "# Load the dataset into a pandas DataFrame\n",
        "data = pd.read_csv('Dataset.csv')\n",
        "\n",
        "# Select the relevant columns for your prediction\n",
        "selected_columns = ['area', 'life_satisfaction']\n",
        "df = data[selected_columns]\n",
        "\n",
        "# Drop any rows with missing values\n",
        "df = df.dropna()\n",
        "\n",
        "# Split the data into input (X) and target (y) variables\n",
        "X = df[['area']]  # Keep only the 'area' column\n",
        "y = df['life_satisfaction']\n",
        "\n",
        "# Perform one-hot encoding on categorical variables\n",
        "enc = OneHotEncoder()\n",
        "X_encoded = enc.fit_transform(X).toarray()\n",
        "\n",
        "# Split the encoded data into training and testing sets\n",
        "X_train, X_test, y_train, y_test = train_test_split(X_encoded, y, test_size=0.2, random_state=42)\n",
        "\n",
        "# Create an instance of the LinearRegression model\n",
        "model = LinearRegression()\n",
        "\n",
        "# Train the model on the training data\n",
        "model.fit(X_train, y_train)\n",
        "\n",
        "# Make predictions on the test set\n",
        "y_pred = model.predict(X_test)\n",
        "\n",
        "# Find the index of the record with the highest predicted life satisfaction rate\n",
        "highest_index = y_pred.argmax()\n",
        "\n",
        "# Get the corresponding area and predicted life satisfaction rate\n",
        "highest_area = enc.inverse_transform([X_test[highest_index]])[0][0]\n",
        "predicted_satisfaction_rate = y_pred[highest_index]\n",
        "\n",
        "# Print the result\n",
        "print(\"The area with the highest predicted life satisfaction rate is:\", highest_area)\n",
        "print(\"The predicted life satisfaction rate for\", highest_area, \"is:\", round(predicted_satisfaction_rate, 1))\n"
      ]
    },
    {
      "cell_type": "code",
      "source": [
        "# predicting which borough might have the highest recycling rate.\n",
        "\n",
        "import pandas as pd\n",
        "from sklearn.linear_model import LinearRegression\n",
        "from sklearn.model_selection import train_test_split\n",
        "from sklearn.preprocessing import OneHotEncoder\n",
        "\n",
        "# Load the dataset into a pandas DataFrame\n",
        "data = pd.read_csv('Dataset.csv')\n",
        "\n",
        "# Select the relevant columns for your prediction\n",
        "selected_columns = ['area', 'recycling_pct']\n",
        "df = data[selected_columns]\n",
        "\n",
        "# Drop any rows with missing values\n",
        "df = df.dropna()\n",
        "\n",
        "# Split the data into input (X) and target (y) variables\n",
        "X = df[['area']]  # Keep only the 'area' column\n",
        "y = df['recycling_pct']\n",
        "\n",
        "# Perform one-hot encoding on categorical variables\n",
        "enc = OneHotEncoder()\n",
        "X_encoded = enc.fit_transform(X).toarray()\n",
        "\n",
        "# Split the encoded data into training and testing sets\n",
        "X_train, X_test, y_train, y_test = train_test_split(X_encoded, y, test_size=0.2, random_state=42)\n",
        "\n",
        "# Create an instance of the LinearRegression model\n",
        "model = LinearRegression()\n",
        "\n",
        "# Train the model on the training data\n",
        "model.fit(X_train, y_train)\n",
        "\n",
        "# Make predictions on the test set\n",
        "y_pred = model.predict(X_test)\n",
        "\n",
        "# Find the index of the record with the highest predicted recycling rate\n",
        "highest_index = y_pred.argmax()\n",
        "\n",
        "# Get the corresponding area and predicted recycling percentage\n",
        "highest_area = enc.inverse_transform([X_test[highest_index]])[0][0]\n",
        "predicted_recycling_pct = y_pred[highest_index]\n",
        "\n",
        "# Print the result with one decimal place\n",
        "print(\"The area with the highest predicted recycling rate is:\", highest_area)\n",
        "print(\"The predicted recycling percentage for\", highest_area, \"is: {:.1f}\".format(predicted_recycling_pct),\"%\")\n"
      ],
      "metadata": {
        "colab": {
          "base_uri": "https://localhost:8080/"
        },
        "id": "RCKTuaoqqpeb",
        "outputId": "0ecc25ec-c2cf-4073-843b-216d5469a44e"
      },
      "execution_count": 30,
      "outputs": [
        {
          "output_type": "stream",
          "name": "stdout",
          "text": [
            "The area with the highest predicted recycling rate is: bexley\n",
            "The predicted recycling percentage for bexley is: 51.8 %\n"
          ]
        }
      ]
    },
    {
      "cell_type": "code",
      "source": [
        "# Predicting the area most likely to have the least population\n",
        "\n",
        "import pandas as pd\n",
        "from sklearn.linear_model import LinearRegression\n",
        "from sklearn.model_selection import train_test_split\n",
        "from sklearn.preprocessing import OneHotEncoder\n",
        "\n",
        "# Load the dataset into a pandas DataFrame\n",
        "data = pd.read_csv('Dataset.csv')\n",
        "\n",
        "# Select the relevant columns for your prediction\n",
        "selected_columns = ['area', 'population_size']\n",
        "df = data[selected_columns]\n",
        "\n",
        "# Drop any rows with missing values\n",
        "df = df.dropna()\n",
        "\n",
        "# Split the data into input (X) and target (y) variables\n",
        "X = df[['area']]  # Keep only the 'area' column\n",
        "y = df['population_size']\n",
        "\n",
        "# Perform one-hot encoding on categorical variables\n",
        "enc = OneHotEncoder()\n",
        "X_encoded = enc.fit_transform(X).toarray()\n",
        "\n",
        "# Split the encoded data into training and testing sets\n",
        "X_train, X_test, y_train, y_test = train_test_split(X_encoded, y, test_size=0.2, random_state=42)\n",
        "\n",
        "# Create an instance of the LinearRegression model\n",
        "model = LinearRegression()\n",
        "\n",
        "# Train the model on the training data\n",
        "model.fit(X_train, y_train)\n",
        "\n",
        "# Make predictions on the test set\n",
        "y_pred = model.predict(X_test)\n",
        "\n",
        "# Find the index of the record with the lowest predicted population\n",
        "lowest_index = y_pred.argmin()\n",
        "\n",
        "# Get the corresponding area and predicted population\n",
        "lowest_area = enc.inverse_transform([X_test[lowest_index]])[0][0]\n",
        "predicted_population = y_pred[lowest_index]\n",
        "\n",
        "# Print the result \n",
        "\n",
        "print(\"The area most likely to have the least population is:\", lowest_area)\n",
        "print(\"The predicted population for\", lowest_area, \"is: {:.1f}\".format(round(predicted_population, 1)))\n",
        "\n"
      ],
      "metadata": {
        "colab": {
          "base_uri": "https://localhost:8080/"
        },
        "id": "LWxv-oOcwYW9",
        "outputId": "fe7f6dba-8211-4239-b3ba-84250fe06eb4"
      },
      "execution_count": 33,
      "outputs": [
        {
          "output_type": "stream",
          "name": "stdout",
          "text": [
            "The area most likely to have the least population is: kingston upon thames\n",
            "The predicted population for kingston upon thames is: 176640.0\n"
          ]
        }
      ]
    },
    {
      "cell_type": "code",
      "source": [
        "#predicting the area most likely to have the highest average salary\n",
        "\n",
        "import pandas as pd\n",
        "from sklearn.linear_model import LinearRegression\n",
        "from sklearn.model_selection import train_test_split\n",
        "from sklearn.preprocessing import OneHotEncoder\n",
        "\n",
        "# Load the dataset into a pandas DataFrame\n",
        "data = pd.read_csv('Dataset.csv')\n",
        "\n",
        "# Select the relevant columns for your prediction\n",
        "selected_columns = ['area', 'median_salary']\n",
        "df = data[selected_columns]\n",
        "\n",
        "# Drop any rows with missing values\n",
        "df = df.dropna()\n",
        "\n",
        "# Split the data into input (X) and target (y) variables\n",
        "X = df[['area']]  # Keep only the 'area' column\n",
        "y = df['median_salary']\n",
        "\n",
        "# Perform one-hot encoding on categorical variables\n",
        "enc = OneHotEncoder()\n",
        "X_encoded = enc.fit_transform(X).toarray()\n",
        "\n",
        "# Split the encoded data into training and testing sets\n",
        "X_train, X_test, y_train, y_test = train_test_split(X_encoded, y, test_size=0.2, random_state=42)\n",
        "\n",
        "# Create an instance of the LinearRegression model\n",
        "model = LinearRegression()\n",
        "\n",
        "# Train the model on the training data\n",
        "model.fit(X_train, y_train)\n",
        "\n",
        "# Make predictions on the test set\n",
        "y_pred = model.predict(X_test)\n",
        "\n",
        "# Find the index of the record with the highest predicted average salary\n",
        "highest_index = y_pred.argmax()\n",
        "\n",
        "# Get the corresponding area and predicted average salary\n",
        "highest_area = enc.inverse_transform([X_test[highest_index]])[0][0]\n",
        "predicted_avg_salary = y_pred[highest_index]\n",
        "\n",
        "# Print the result\n",
        "print(\"The area most likely to have the highest average salary is:\", highest_area)\n",
        "print(\"The predicted average salary for\", highest_area, \"is:\", int(round(predicted_avg_salary)))\n"
      ],
      "metadata": {
        "colab": {
          "base_uri": "https://localhost:8080/"
        },
        "id": "ALmjVZtnxncH",
        "outputId": "ab0b66c8-db6a-4e13-84b2-6a42ad8e94ab"
      },
      "execution_count": 36,
      "outputs": [
        {
          "output_type": "stream",
          "name": "stdout",
          "text": [
            "The area most likely to have the highest average salary is: tower hamlets\n",
            "The predicted average salary for tower hamlets is: 47808\n"
          ]
        }
      ]
    }
  ]
}